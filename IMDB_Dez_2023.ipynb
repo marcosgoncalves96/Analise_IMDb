{
 "cells": [
  {
   "cell_type": "markdown",
   "id": "8d1248dd",
   "metadata": {},
   "source": [
    "# Análise de dados do IMDb #\n",
    "\n",
    "- [IMDB](https://www.imdb.com/) (Internet Movie Database) é uma base de dados online para avaliação e informações sobre filmes e séries de TV."
   ]
  },
  {
   "cell_type": "markdown",
   "id": "2b26b30a",
   "metadata": {},
   "source": [
    "<center>\n",
    "    \n",
    "<p><img src=\"https://m.media-amazon.com/images/G/01/IMDb/brand/guidelines/imdb/IMDb_BrandBanner_1920x425.jpg\" alt=\"Logo_IMDb\" width='85%'></p>\n",
    "\n",
    "</center>"
   ]
  },
  {
   "cell_type": "markdown",
   "id": "fa46c9af",
   "metadata": {},
   "source": [
    "Realizar tratamento e análise exploratória dos dados \n",
    "\n",
    "- Verificar o top 10 filmes melhores avaliações\n",
    "- Verificar o top 10 filmes piores avaliações\n",
    "- Número de Títulos por Gênero (Top 10)\n",
    "- Quantidade de Títulos por Ano\n",
    "\n",
    "\n",
    "A base de dados foi disponibilizada no [**Keagle**](https://www.kaggle.com/datasets/kianindeed/imdb-movie-dataset-dec-2023?select=imdb_movie_data_2023.csv)"
   ]
  },
  {
   "cell_type": "markdown",
   "id": "454ae856",
   "metadata": {},
   "source": [
    "### Importando Dados\n",
    "\n",
    "Importando as bibliotecas necessárias e a base de dados\n"
   ]
  },
  {
   "cell_type": "code",
   "execution_count": 1,
   "id": "73f1c0dc",
   "metadata": {},
   "outputs": [],
   "source": [
    "#Importando bibliotecas\n",
    "import pandas as pd\n",
    "\n",
    "\n",
    "#Importando dados\n",
    "base_imdb = pd.read_csv('imdb_movie_data_2023.csv')\n"
   ]
  },
  {
   "cell_type": "markdown",
   "id": "21e8dc73",
   "metadata": {},
   "source": [
    "### Análise e visualização inicial dos Dados"
   ]
  },
  {
   "cell_type": "markdown",
   "id": "ce234759",
   "metadata": {},
   "source": [
    "### Qual o tamanho da nossa base de dados?\n",
    "\n",
    "Podemos verificar no código abaixo, que temos 1950 linhas e 11 colunas em nossa base"
   ]
  },
  {
   "cell_type": "code",
   "execution_count": 2,
   "id": "7b9892d4",
   "metadata": {},
   "outputs": [
    {
     "data": {
      "text/plain": [
       "(1950, 11)"
      ]
     },
     "execution_count": 2,
     "metadata": {},
     "output_type": "execute_result"
    }
   ],
   "source": [
    "base_imdb.shape"
   ]
  },
  {
   "cell_type": "markdown",
   "id": "c486a837",
   "metadata": {},
   "source": [
    "### Quais os nomes das colunas?"
   ]
  },
  {
   "cell_type": "code",
   "execution_count": 3,
   "id": "658a5164",
   "metadata": {},
   "outputs": [
    {
     "data": {
      "text/plain": [
       "Index(['Unnamed: 0', 'Moive Name', 'Rating', 'Votes', 'Meta Score', 'Genre',\n",
       "       'PG Rating', 'Year', 'Duration', 'Cast', 'Director'],\n",
       "      dtype='object')"
      ]
     },
     "execution_count": 3,
     "metadata": {},
     "output_type": "execute_result"
    }
   ],
   "source": [
    "base_imdb.columns"
   ]
  },
  {
   "cell_type": "markdown",
   "id": "4852955b",
   "metadata": {},
   "source": [
    "### Quais os tipos das váriaveis"
   ]
  },
  {
   "cell_type": "code",
   "execution_count": 4,
   "id": "6d499f93",
   "metadata": {},
   "outputs": [
    {
     "data": {
      "text/plain": [
       "Unnamed: 0      int64\n",
       "Moive Name     object\n",
       "Rating        float64\n",
       "Votes         float64\n",
       "Meta Score    float64\n",
       "Genre          object\n",
       "PG Rating      object\n",
       "Year            int64\n",
       "Duration       object\n",
       "Cast           object\n",
       "Director       object\n",
       "dtype: object"
      ]
     },
     "execution_count": 4,
     "metadata": {},
     "output_type": "execute_result"
    }
   ],
   "source": [
    "base_imdb.dtypes"
   ]
  },
  {
   "cell_type": "markdown",
   "id": "1837013c",
   "metadata": {},
   "source": [
    "### Conteúdo das primeiras linhas\n",
    "\n",
    "Com essa visualização inicial é possível verificar como os dados estão organizados e apresentados.\n",
    "Através disso, podemos começar a ver o que precisamos tratar nos dados."
   ]
  },
  {
   "cell_type": "code",
   "execution_count": 5,
   "id": "960af2ff",
   "metadata": {},
   "outputs": [
    {
     "data": {
      "text/html": [
       "<div>\n",
       "<style scoped>\n",
       "    .dataframe tbody tr th:only-of-type {\n",
       "        vertical-align: middle;\n",
       "    }\n",
       "\n",
       "    .dataframe tbody tr th {\n",
       "        vertical-align: top;\n",
       "    }\n",
       "\n",
       "    .dataframe thead th {\n",
       "        text-align: right;\n",
       "    }\n",
       "</style>\n",
       "<table border=\"1\" class=\"dataframe\">\n",
       "  <thead>\n",
       "    <tr style=\"text-align: right;\">\n",
       "      <th></th>\n",
       "      <th>Unnamed: 0</th>\n",
       "      <th>Moive Name</th>\n",
       "      <th>Rating</th>\n",
       "      <th>Votes</th>\n",
       "      <th>Meta Score</th>\n",
       "      <th>Genre</th>\n",
       "      <th>PG Rating</th>\n",
       "      <th>Year</th>\n",
       "      <th>Duration</th>\n",
       "      <th>Cast</th>\n",
       "      <th>Director</th>\n",
       "    </tr>\n",
       "  </thead>\n",
       "  <tbody>\n",
       "    <tr>\n",
       "      <th>0</th>\n",
       "      <td>0</td>\n",
       "      <td>Leave the World Behind</td>\n",
       "      <td>6.5</td>\n",
       "      <td>90000.0</td>\n",
       "      <td>67.0</td>\n",
       "      <td>Drama, Mystery, Thriller</td>\n",
       "      <td>R</td>\n",
       "      <td>2023</td>\n",
       "      <td>2h 18m</td>\n",
       "      <td>Julia Roberts, Mahershala Ali, Ethan Hawke, My...</td>\n",
       "      <td>Sam Esmail</td>\n",
       "    </tr>\n",
       "    <tr>\n",
       "      <th>1</th>\n",
       "      <td>1</td>\n",
       "      <td>Wonka</td>\n",
       "      <td>7.4</td>\n",
       "      <td>24000.0</td>\n",
       "      <td>66.0</td>\n",
       "      <td>Adventure, Comedy, Family</td>\n",
       "      <td>PG</td>\n",
       "      <td>2023</td>\n",
       "      <td>1h 56m</td>\n",
       "      <td>Timothée Chalamet, Gustave Die, Murray McArthu...</td>\n",
       "      <td>Paul King</td>\n",
       "    </tr>\n",
       "    <tr>\n",
       "      <th>2</th>\n",
       "      <td>2</td>\n",
       "      <td>Poor Things</td>\n",
       "      <td>8.5</td>\n",
       "      <td>6700.0</td>\n",
       "      <td>86.0</td>\n",
       "      <td>Comedy, Drama, Romance</td>\n",
       "      <td>R</td>\n",
       "      <td>2023</td>\n",
       "      <td>2h 21m</td>\n",
       "      <td>Emma Stone, Mark Ruffalo, Willem Dafoe, Ramy Y...</td>\n",
       "      <td>Yorgos Lanthimos</td>\n",
       "    </tr>\n",
       "    <tr>\n",
       "      <th>3</th>\n",
       "      <td>3</td>\n",
       "      <td>Killers of the Flower Moon</td>\n",
       "      <td>7.8</td>\n",
       "      <td>128000.0</td>\n",
       "      <td>89.0</td>\n",
       "      <td>Crime, Drama, History</td>\n",
       "      <td>R</td>\n",
       "      <td>2023</td>\n",
       "      <td>3h 26m</td>\n",
       "      <td>Leonardo DiCaprio, Robert De Niro, Lily Gladst...</td>\n",
       "      <td>Martin Scorsese</td>\n",
       "    </tr>\n",
       "    <tr>\n",
       "      <th>4</th>\n",
       "      <td>4</td>\n",
       "      <td>May December</td>\n",
       "      <td>7.0</td>\n",
       "      <td>21000.0</td>\n",
       "      <td>85.0</td>\n",
       "      <td>Comedy, Drama</td>\n",
       "      <td>R</td>\n",
       "      <td>2023</td>\n",
       "      <td>1h 57m</td>\n",
       "      <td>Natalie Portman, Chris Tenzis, Charles Melton,...</td>\n",
       "      <td>Todd Haynes</td>\n",
       "    </tr>\n",
       "  </tbody>\n",
       "</table>\n",
       "</div>"
      ],
      "text/plain": [
       "   Unnamed: 0                   Moive Name  Rating     Votes  Meta Score  \\\n",
       "0           0       Leave the World Behind     6.5   90000.0        67.0   \n",
       "1           1                        Wonka     7.4   24000.0        66.0   \n",
       "2           2                  Poor Things     8.5    6700.0        86.0   \n",
       "3           3   Killers of the Flower Moon     7.8  128000.0        89.0   \n",
       "4           4                 May December     7.0   21000.0        85.0   \n",
       "\n",
       "                       Genre PG Rating  Year Duration  \\\n",
       "0   Drama, Mystery, Thriller         R  2023   2h 18m   \n",
       "1  Adventure, Comedy, Family        PG  2023   1h 56m   \n",
       "2     Comedy, Drama, Romance         R  2023   2h 21m   \n",
       "3      Crime, Drama, History         R  2023   3h 26m   \n",
       "4              Comedy, Drama         R  2023   1h 57m   \n",
       "\n",
       "                                                Cast          Director  \n",
       "0  Julia Roberts, Mahershala Ali, Ethan Hawke, My...        Sam Esmail  \n",
       "1  Timothée Chalamet, Gustave Die, Murray McArthu...         Paul King  \n",
       "2  Emma Stone, Mark Ruffalo, Willem Dafoe, Ramy Y...  Yorgos Lanthimos  \n",
       "3  Leonardo DiCaprio, Robert De Niro, Lily Gladst...   Martin Scorsese  \n",
       "4  Natalie Portman, Chris Tenzis, Charles Melton,...       Todd Haynes  "
      ]
     },
     "execution_count": 5,
     "metadata": {},
     "output_type": "execute_result"
    }
   ],
   "source": [
    "base_imdb.head(5)"
   ]
  },
  {
   "cell_type": "markdown",
   "id": "41cafb8e",
   "metadata": {},
   "source": [
    "Através da visualização inicial, podemos notar que existe uma coluna **\"Unnamed\"** com índice, podemos retirar e a coluna **\"Moive Name\"** possui um erro na digitação, ajustaremos para **Movie Name**"
   ]
  },
  {
   "cell_type": "markdown",
   "id": "4610ffff",
   "metadata": {},
   "source": [
    "### Excluindo a coluna \"Unnamed\""
   ]
  },
  {
   "cell_type": "code",
   "execution_count": 6,
   "id": "11579159",
   "metadata": {},
   "outputs": [
    {
     "data": {
      "text/html": [
       "<div>\n",
       "<style scoped>\n",
       "    .dataframe tbody tr th:only-of-type {\n",
       "        vertical-align: middle;\n",
       "    }\n",
       "\n",
       "    .dataframe tbody tr th {\n",
       "        vertical-align: top;\n",
       "    }\n",
       "\n",
       "    .dataframe thead th {\n",
       "        text-align: right;\n",
       "    }\n",
       "</style>\n",
       "<table border=\"1\" class=\"dataframe\">\n",
       "  <thead>\n",
       "    <tr style=\"text-align: right;\">\n",
       "      <th></th>\n",
       "      <th>Moive Name</th>\n",
       "      <th>Rating</th>\n",
       "      <th>Votes</th>\n",
       "      <th>Meta Score</th>\n",
       "      <th>Genre</th>\n",
       "      <th>PG Rating</th>\n",
       "      <th>Year</th>\n",
       "      <th>Duration</th>\n",
       "      <th>Cast</th>\n",
       "      <th>Director</th>\n",
       "    </tr>\n",
       "  </thead>\n",
       "  <tbody>\n",
       "    <tr>\n",
       "      <th>0</th>\n",
       "      <td>Leave the World Behind</td>\n",
       "      <td>6.5</td>\n",
       "      <td>90000.0</td>\n",
       "      <td>67.0</td>\n",
       "      <td>Drama, Mystery, Thriller</td>\n",
       "      <td>R</td>\n",
       "      <td>2023</td>\n",
       "      <td>2h 18m</td>\n",
       "      <td>Julia Roberts, Mahershala Ali, Ethan Hawke, My...</td>\n",
       "      <td>Sam Esmail</td>\n",
       "    </tr>\n",
       "    <tr>\n",
       "      <th>1</th>\n",
       "      <td>Wonka</td>\n",
       "      <td>7.4</td>\n",
       "      <td>24000.0</td>\n",
       "      <td>66.0</td>\n",
       "      <td>Adventure, Comedy, Family</td>\n",
       "      <td>PG</td>\n",
       "      <td>2023</td>\n",
       "      <td>1h 56m</td>\n",
       "      <td>Timothée Chalamet, Gustave Die, Murray McArthu...</td>\n",
       "      <td>Paul King</td>\n",
       "    </tr>\n",
       "    <tr>\n",
       "      <th>2</th>\n",
       "      <td>Poor Things</td>\n",
       "      <td>8.5</td>\n",
       "      <td>6700.0</td>\n",
       "      <td>86.0</td>\n",
       "      <td>Comedy, Drama, Romance</td>\n",
       "      <td>R</td>\n",
       "      <td>2023</td>\n",
       "      <td>2h 21m</td>\n",
       "      <td>Emma Stone, Mark Ruffalo, Willem Dafoe, Ramy Y...</td>\n",
       "      <td>Yorgos Lanthimos</td>\n",
       "    </tr>\n",
       "    <tr>\n",
       "      <th>3</th>\n",
       "      <td>Killers of the Flower Moon</td>\n",
       "      <td>7.8</td>\n",
       "      <td>128000.0</td>\n",
       "      <td>89.0</td>\n",
       "      <td>Crime, Drama, History</td>\n",
       "      <td>R</td>\n",
       "      <td>2023</td>\n",
       "      <td>3h 26m</td>\n",
       "      <td>Leonardo DiCaprio, Robert De Niro, Lily Gladst...</td>\n",
       "      <td>Martin Scorsese</td>\n",
       "    </tr>\n",
       "    <tr>\n",
       "      <th>4</th>\n",
       "      <td>May December</td>\n",
       "      <td>7.0</td>\n",
       "      <td>21000.0</td>\n",
       "      <td>85.0</td>\n",
       "      <td>Comedy, Drama</td>\n",
       "      <td>R</td>\n",
       "      <td>2023</td>\n",
       "      <td>1h 57m</td>\n",
       "      <td>Natalie Portman, Chris Tenzis, Charles Melton,...</td>\n",
       "      <td>Todd Haynes</td>\n",
       "    </tr>\n",
       "  </tbody>\n",
       "</table>\n",
       "</div>"
      ],
      "text/plain": [
       "                    Moive Name  Rating     Votes  Meta Score  \\\n",
       "0       Leave the World Behind     6.5   90000.0        67.0   \n",
       "1                        Wonka     7.4   24000.0        66.0   \n",
       "2                  Poor Things     8.5    6700.0        86.0   \n",
       "3   Killers of the Flower Moon     7.8  128000.0        89.0   \n",
       "4                 May December     7.0   21000.0        85.0   \n",
       "\n",
       "                       Genre PG Rating  Year Duration  \\\n",
       "0   Drama, Mystery, Thriller         R  2023   2h 18m   \n",
       "1  Adventure, Comedy, Family        PG  2023   1h 56m   \n",
       "2     Comedy, Drama, Romance         R  2023   2h 21m   \n",
       "3      Crime, Drama, History         R  2023   3h 26m   \n",
       "4              Comedy, Drama         R  2023   1h 57m   \n",
       "\n",
       "                                                Cast          Director  \n",
       "0  Julia Roberts, Mahershala Ali, Ethan Hawke, My...        Sam Esmail  \n",
       "1  Timothée Chalamet, Gustave Die, Murray McArthu...         Paul King  \n",
       "2  Emma Stone, Mark Ruffalo, Willem Dafoe, Ramy Y...  Yorgos Lanthimos  \n",
       "3  Leonardo DiCaprio, Robert De Niro, Lily Gladst...   Martin Scorsese  \n",
       "4  Natalie Portman, Chris Tenzis, Charles Melton,...       Todd Haynes  "
      ]
     },
     "execution_count": 6,
     "metadata": {},
     "output_type": "execute_result"
    }
   ],
   "source": [
    "#Excluindo a coluna \"Unnamed: 0\n",
    "base_imdb = base_imdb.drop(['Unnamed: 0'], axis=1)\n",
    "base_imdb.head()"
   ]
  },
  {
   "cell_type": "markdown",
   "id": "4a6f5789",
   "metadata": {},
   "source": [
    "### Corrigindo nome da coluna"
   ]
  },
  {
   "cell_type": "code",
   "execution_count": 7,
   "id": "6acd24e1",
   "metadata": {},
   "outputs": [
    {
     "data": {
      "text/html": [
       "<div>\n",
       "<style scoped>\n",
       "    .dataframe tbody tr th:only-of-type {\n",
       "        vertical-align: middle;\n",
       "    }\n",
       "\n",
       "    .dataframe tbody tr th {\n",
       "        vertical-align: top;\n",
       "    }\n",
       "\n",
       "    .dataframe thead th {\n",
       "        text-align: right;\n",
       "    }\n",
       "</style>\n",
       "<table border=\"1\" class=\"dataframe\">\n",
       "  <thead>\n",
       "    <tr style=\"text-align: right;\">\n",
       "      <th></th>\n",
       "      <th>Movie Name</th>\n",
       "      <th>Rating</th>\n",
       "      <th>Votes</th>\n",
       "      <th>Meta Score</th>\n",
       "      <th>Genre</th>\n",
       "      <th>PG Rating</th>\n",
       "      <th>Year</th>\n",
       "      <th>Duration</th>\n",
       "      <th>Cast</th>\n",
       "      <th>Director</th>\n",
       "    </tr>\n",
       "  </thead>\n",
       "  <tbody>\n",
       "    <tr>\n",
       "      <th>0</th>\n",
       "      <td>Leave the World Behind</td>\n",
       "      <td>6.5</td>\n",
       "      <td>90000.0</td>\n",
       "      <td>67.0</td>\n",
       "      <td>Drama, Mystery, Thriller</td>\n",
       "      <td>R</td>\n",
       "      <td>2023</td>\n",
       "      <td>2h 18m</td>\n",
       "      <td>Julia Roberts, Mahershala Ali, Ethan Hawke, My...</td>\n",
       "      <td>Sam Esmail</td>\n",
       "    </tr>\n",
       "    <tr>\n",
       "      <th>1</th>\n",
       "      <td>Wonka</td>\n",
       "      <td>7.4</td>\n",
       "      <td>24000.0</td>\n",
       "      <td>66.0</td>\n",
       "      <td>Adventure, Comedy, Family</td>\n",
       "      <td>PG</td>\n",
       "      <td>2023</td>\n",
       "      <td>1h 56m</td>\n",
       "      <td>Timothée Chalamet, Gustave Die, Murray McArthu...</td>\n",
       "      <td>Paul King</td>\n",
       "    </tr>\n",
       "    <tr>\n",
       "      <th>2</th>\n",
       "      <td>Poor Things</td>\n",
       "      <td>8.5</td>\n",
       "      <td>6700.0</td>\n",
       "      <td>86.0</td>\n",
       "      <td>Comedy, Drama, Romance</td>\n",
       "      <td>R</td>\n",
       "      <td>2023</td>\n",
       "      <td>2h 21m</td>\n",
       "      <td>Emma Stone, Mark Ruffalo, Willem Dafoe, Ramy Y...</td>\n",
       "      <td>Yorgos Lanthimos</td>\n",
       "    </tr>\n",
       "    <tr>\n",
       "      <th>3</th>\n",
       "      <td>Killers of the Flower Moon</td>\n",
       "      <td>7.8</td>\n",
       "      <td>128000.0</td>\n",
       "      <td>89.0</td>\n",
       "      <td>Crime, Drama, History</td>\n",
       "      <td>R</td>\n",
       "      <td>2023</td>\n",
       "      <td>3h 26m</td>\n",
       "      <td>Leonardo DiCaprio, Robert De Niro, Lily Gladst...</td>\n",
       "      <td>Martin Scorsese</td>\n",
       "    </tr>\n",
       "    <tr>\n",
       "      <th>4</th>\n",
       "      <td>May December</td>\n",
       "      <td>7.0</td>\n",
       "      <td>21000.0</td>\n",
       "      <td>85.0</td>\n",
       "      <td>Comedy, Drama</td>\n",
       "      <td>R</td>\n",
       "      <td>2023</td>\n",
       "      <td>1h 57m</td>\n",
       "      <td>Natalie Portman, Chris Tenzis, Charles Melton,...</td>\n",
       "      <td>Todd Haynes</td>\n",
       "    </tr>\n",
       "  </tbody>\n",
       "</table>\n",
       "</div>"
      ],
      "text/plain": [
       "                    Movie Name  Rating     Votes  Meta Score  \\\n",
       "0       Leave the World Behind     6.5   90000.0        67.0   \n",
       "1                        Wonka     7.4   24000.0        66.0   \n",
       "2                  Poor Things     8.5    6700.0        86.0   \n",
       "3   Killers of the Flower Moon     7.8  128000.0        89.0   \n",
       "4                 May December     7.0   21000.0        85.0   \n",
       "\n",
       "                       Genre PG Rating  Year Duration  \\\n",
       "0   Drama, Mystery, Thriller         R  2023   2h 18m   \n",
       "1  Adventure, Comedy, Family        PG  2023   1h 56m   \n",
       "2     Comedy, Drama, Romance         R  2023   2h 21m   \n",
       "3      Crime, Drama, History         R  2023   3h 26m   \n",
       "4              Comedy, Drama         R  2023   1h 57m   \n",
       "\n",
       "                                                Cast          Director  \n",
       "0  Julia Roberts, Mahershala Ali, Ethan Hawke, My...        Sam Esmail  \n",
       "1  Timothée Chalamet, Gustave Die, Murray McArthu...         Paul King  \n",
       "2  Emma Stone, Mark Ruffalo, Willem Dafoe, Ramy Y...  Yorgos Lanthimos  \n",
       "3  Leonardo DiCaprio, Robert De Niro, Lily Gladst...   Martin Scorsese  \n",
       "4  Natalie Portman, Chris Tenzis, Charles Melton,...       Todd Haynes  "
      ]
     },
     "execution_count": 7,
     "metadata": {},
     "output_type": "execute_result"
    }
   ],
   "source": [
    "base_imdb = base_imdb.rename(columns={'Moive Name': 'Movie Name'})\n",
    "base_imdb.head()"
   ]
  },
  {
   "cell_type": "markdown",
   "id": "c6a81fbb",
   "metadata": {},
   "source": [
    "### Dados Ausentes\n",
    "\n",
    "Devemos sempre fazer a verificação dos dados ausentes para decidir como será a tratativa para os mesmos para que não afete a análise dos dados"
   ]
  },
  {
   "cell_type": "code",
   "execution_count": 8,
   "id": "384eaf15",
   "metadata": {},
   "outputs": [
    {
     "data": {
      "text/plain": [
       "Meta Score    117\n",
       "Genre         117\n",
       "Cast          117\n",
       "Director      117\n",
       "PG Rating      76\n",
       "Rating          6\n",
       "Votes           6\n",
       "Duration        2\n",
       "Movie Name      0\n",
       "Year            0\n",
       "dtype: int64"
      ]
     },
     "execution_count": 8,
     "metadata": {},
     "output_type": "execute_result"
    }
   ],
   "source": [
    "base_imdb.isnull().sum().sort_values(ascending=False)"
   ]
  },
  {
   "cell_type": "markdown",
   "id": "b770dbfb",
   "metadata": {},
   "source": [
    "#### Podemos ter várias formas de tratar os valores vazios\n",
    "#### Para essa análise, iremos excluir as linhas que possuirem ao menos uma informação vazia. "
   ]
  },
  {
   "cell_type": "code",
   "execution_count": 9,
   "id": "e3815020",
   "metadata": {},
   "outputs": [],
   "source": [
    "base_imdb=base_imdb.dropna()"
   ]
  },
  {
   "cell_type": "markdown",
   "id": "97671f8b",
   "metadata": {},
   "source": [
    "#### Verificando se ainda existem dados vazios"
   ]
  },
  {
   "cell_type": "code",
   "execution_count": 10,
   "id": "2e37fa87",
   "metadata": {},
   "outputs": [
    {
     "data": {
      "text/plain": [
       "Movie Name    0\n",
       "Rating        0\n",
       "Votes         0\n",
       "Meta Score    0\n",
       "Genre         0\n",
       "PG Rating     0\n",
       "Year          0\n",
       "Duration      0\n",
       "Cast          0\n",
       "Director      0\n",
       "dtype: int64"
      ]
     },
     "execution_count": 10,
     "metadata": {},
     "output_type": "execute_result"
    }
   ],
   "source": [
    "base_imdb.isnull().sum().sort_values(ascending=False)"
   ]
  },
  {
   "cell_type": "markdown",
   "id": "a0b85f7e",
   "metadata": {},
   "source": [
    "#### Verificando o tamanho atualizado da base"
   ]
  },
  {
   "cell_type": "code",
   "execution_count": 11,
   "id": "e0cb3103",
   "metadata": {},
   "outputs": [
    {
     "data": {
      "text/plain": [
       "(1784, 10)"
      ]
     },
     "execution_count": 11,
     "metadata": {},
     "output_type": "execute_result"
    }
   ],
   "source": [
    "base_imdb.shape"
   ]
  },
  {
   "cell_type": "markdown",
   "id": "ad73b1fb",
   "metadata": {},
   "source": [
    "## Após os tratamentos nos dados, podemos responder as perguntas"
   ]
  },
  {
   "cell_type": "markdown",
   "id": "76dfba68",
   "metadata": {},
   "source": [
    "### Top 10 títulos com maiores avaliações"
   ]
  },
  {
   "cell_type": "code",
   "execution_count": null,
   "id": "f552aeec",
   "metadata": {},
   "outputs": [],
   "source": [
    "top_filmes = base_imdb.sort_values(by=['Rating'], ascending=False)\n",
    "top_filmes.reset_index(inplace=True)\n",
    "top_filmes[['Movie Name','Rating']].head(10)"
   ]
  },
  {
   "cell_type": "markdown",
   "id": "36cfe99a",
   "metadata": {},
   "source": [
    "### Top 10 títulos com piores avaliações"
   ]
  },
  {
   "cell_type": "code",
   "execution_count": null,
   "id": "9baa1c40",
   "metadata": {},
   "outputs": [],
   "source": [
    "piores_filmes = base_imdb.sort_values(by=['Rating'], ascending=True)\n",
    "piores_filmes.reset_index(inplace=True)\n",
    "piores_filmes[['Movie Name','Rating']].head(10)"
   ]
  },
  {
   "cell_type": "markdown",
   "id": "55496484",
   "metadata": {},
   "source": [
    "### Número de títulos por Gênero (Top 10)"
   ]
  },
  {
   "cell_type": "code",
   "execution_count": 27,
   "id": "9902928f",
   "metadata": {},
   "outputs": [
    {
     "data": {
      "text/plain": [
       "Action, Adventure, Sci-Fi       92\n",
       "Comedy                          62\n",
       "Comedy, Drama, Romance          58\n",
       "Animation, Adventure, Comedy    52\n",
       "Action, Adventure, Fantasy      51\n",
       "Drama                           50\n",
       "Action, Adventure, Comedy       47\n",
       "Comedy, Romance                 45\n",
       "Drama, Romance                  44\n",
       "Comedy, Drama                   40\n",
       "Name: Genre, dtype: int64"
      ]
     },
     "execution_count": 27,
     "metadata": {},
     "output_type": "execute_result"
    }
   ],
   "source": [
    "titulos_genero = base_imdb['Genre'].value_counts()\n",
    "titulos_genero.head(10)"
   ]
  },
  {
   "cell_type": "markdown",
   "id": "d7bc7e9b",
   "metadata": {},
   "source": [
    "### Quantidade de títulos por Ano"
   ]
  },
  {
   "cell_type": "code",
   "execution_count": 43,
   "id": "9a3f256b",
   "metadata": {},
   "outputs": [
    {
     "data": {
      "text/html": [
       "<div>\n",
       "<style scoped>\n",
       "    .dataframe tbody tr th:only-of-type {\n",
       "        vertical-align: middle;\n",
       "    }\n",
       "\n",
       "    .dataframe tbody tr th {\n",
       "        vertical-align: top;\n",
       "    }\n",
       "\n",
       "    .dataframe thead th {\n",
       "        text-align: right;\n",
       "    }\n",
       "</style>\n",
       "<table border=\"1\" class=\"dataframe\">\n",
       "  <thead>\n",
       "    <tr style=\"text-align: right;\">\n",
       "      <th></th>\n",
       "      <th>Movie Name</th>\n",
       "    </tr>\n",
       "    <tr>\n",
       "      <th>Year</th>\n",
       "      <th></th>\n",
       "    </tr>\n",
       "  </thead>\n",
       "  <tbody>\n",
       "    <tr>\n",
       "      <th>1938</th>\n",
       "      <td>1</td>\n",
       "    </tr>\n",
       "    <tr>\n",
       "      <th>1939</th>\n",
       "      <td>3</td>\n",
       "    </tr>\n",
       "    <tr>\n",
       "      <th>1941</th>\n",
       "      <td>1</td>\n",
       "    </tr>\n",
       "    <tr>\n",
       "      <th>1942</th>\n",
       "      <td>2</td>\n",
       "    </tr>\n",
       "    <tr>\n",
       "      <th>1944</th>\n",
       "      <td>1</td>\n",
       "    </tr>\n",
       "    <tr>\n",
       "      <th>...</th>\n",
       "      <td>...</td>\n",
       "    </tr>\n",
       "    <tr>\n",
       "      <th>2019</th>\n",
       "      <td>71</td>\n",
       "    </tr>\n",
       "    <tr>\n",
       "      <th>2020</th>\n",
       "      <td>40</td>\n",
       "    </tr>\n",
       "    <tr>\n",
       "      <th>2021</th>\n",
       "      <td>67</td>\n",
       "    </tr>\n",
       "    <tr>\n",
       "      <th>2022</th>\n",
       "      <td>100</td>\n",
       "    </tr>\n",
       "    <tr>\n",
       "      <th>2023</th>\n",
       "      <td>173</td>\n",
       "    </tr>\n",
       "  </tbody>\n",
       "</table>\n",
       "<p>79 rows × 1 columns</p>\n",
       "</div>"
      ],
      "text/plain": [
       "      Movie Name\n",
       "Year            \n",
       "1938           1\n",
       "1939           3\n",
       "1941           1\n",
       "1942           2\n",
       "1944           1\n",
       "...          ...\n",
       "2019          71\n",
       "2020          40\n",
       "2021          67\n",
       "2022         100\n",
       "2023         173\n",
       "\n",
       "[79 rows x 1 columns]"
      ]
     },
     "metadata": {},
     "output_type": "display_data"
    }
   ],
   "source": [
    "titulos_ano = base_imdb[['Movie Name','Year']].groupby('Year').count()\n",
    "display(titulos_ano)"
   ]
  }
 ],
 "metadata": {
  "kernelspec": {
   "display_name": "Python 3 (ipykernel)",
   "language": "python",
   "name": "python3"
  },
  "language_info": {
   "codemirror_mode": {
    "name": "ipython",
    "version": 3
   },
   "file_extension": ".py",
   "mimetype": "text/x-python",
   "name": "python",
   "nbconvert_exporter": "python",
   "pygments_lexer": "ipython3",
   "version": "3.9.7"
  }
 },
 "nbformat": 4,
 "nbformat_minor": 5
}
